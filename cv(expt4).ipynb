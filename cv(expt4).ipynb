{
  "nbformat": 4,
  "nbformat_minor": 0,
  "metadata": {
    "colab": {
      "provenance": [],
      "authorship_tag": "ABX9TyPI52P4K84BFFGJWQfahv0J",
      "include_colab_link": true
    },
    "kernelspec": {
      "name": "python3",
      "display_name": "Python 3"
    },
    "language_info": {
      "name": "python"
    }
  },
  "cells": [
    {
      "cell_type": "markdown",
      "metadata": {
        "id": "view-in-github",
        "colab_type": "text"
      },
      "source": [
        "<a href=\"https://colab.research.google.com/github/shruti-sharma12/CV-lab/blob/main/cv(expt4).ipynb\" target=\"_parent\"><img src=\"https://colab.research.google.com/assets/colab-badge.svg\" alt=\"Open In Colab\"/></a>"
      ]
    },
    {
      "cell_type": "markdown",
      "source": [
        "NAME: SHRUTI SHARMA\n",
        "\n",
        "PRN: 1032211936\n",
        "\n",
        "EXPERIMENT 4 (CODE)"
      ],
      "metadata": {
        "id": "IvEzl9DEOikr"
      }
    },
    {
      "cell_type": "code",
      "execution_count": null,
      "metadata": {
        "id": "oVDtMGWFOZnT"
      },
      "outputs": [],
      "source": []
    }
  ]
}